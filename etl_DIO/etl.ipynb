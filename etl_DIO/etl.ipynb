{
    "cells": [
        {
            "cell_type": "markdown",
            "source": [
                "# ETL"
            ],
            "metadata": {}
        },
        {
            "cell_type": "code",
            "execution_count": 36,
            "source": [
                "import pandas as pd\n",
                "import pandera as pa"
            ],
            "outputs": [],
            "metadata": {}
        },
        {
            "cell_type": "code",
            "execution_count": 37,
            "source": [
                "df = pd.read_csv(\"ocorrencia_2010_2020.csv\", sep=\";\", parse_dates=['ocorrencia_dia'], dayfirst=True)\n",
                "df.head()"
            ],
            "outputs": [
                {
                    "output_type": "execute_result",
                    "data": {
                        "text/plain": [
                            "   codigo_ocorrencia  codigo_ocorrencia2 ocorrencia_classificacao  \\\n",
                            "0              40211               40211                INCIDENTE   \n",
                            "1              40349               40349                INCIDENTE   \n",
                            "2              40351               40351                INCIDENTE   \n",
                            "3              39527               39527                 ACIDENTE   \n",
                            "4              40324               40324                INCIDENTE   \n",
                            "\n",
                            "    ocorrencia_cidade ocorrencia_uf ocorrencia_aerodromo ocorrencia_dia  \\\n",
                            "0      RIO DE JANEIRO            RJ                 ****     2010-01-03   \n",
                            "1               BELÉM            PA                 SBBE     2010-01-03   \n",
                            "2      RIO DE JANEIRO            RJ                 SBRJ     2010-01-03   \n",
                            "3  LUCAS DO RIO VERDE            MT                 ****     2010-01-04   \n",
                            "4             PELOTAS            RS                 SBPK     2010-01-05   \n",
                            "\n",
                            "  ocorrencia_hora  total_recomendacoes  \n",
                            "0        12:00:00                    0  \n",
                            "1        11:05:00                    0  \n",
                            "2        03:00:00                    0  \n",
                            "3        17:30:00                    0  \n",
                            "4        19:25:00                    0  "
                        ],
                        "text/html": [
                            "<div>\n",
                            "<style scoped>\n",
                            "    .dataframe tbody tr th:only-of-type {\n",
                            "        vertical-align: middle;\n",
                            "    }\n",
                            "\n",
                            "    .dataframe tbody tr th {\n",
                            "        vertical-align: top;\n",
                            "    }\n",
                            "\n",
                            "    .dataframe thead th {\n",
                            "        text-align: right;\n",
                            "    }\n",
                            "</style>\n",
                            "<table border=\"1\" class=\"dataframe\">\n",
                            "  <thead>\n",
                            "    <tr style=\"text-align: right;\">\n",
                            "      <th></th>\n",
                            "      <th>codigo_ocorrencia</th>\n",
                            "      <th>codigo_ocorrencia2</th>\n",
                            "      <th>ocorrencia_classificacao</th>\n",
                            "      <th>ocorrencia_cidade</th>\n",
                            "      <th>ocorrencia_uf</th>\n",
                            "      <th>ocorrencia_aerodromo</th>\n",
                            "      <th>ocorrencia_dia</th>\n",
                            "      <th>ocorrencia_hora</th>\n",
                            "      <th>total_recomendacoes</th>\n",
                            "    </tr>\n",
                            "  </thead>\n",
                            "  <tbody>\n",
                            "    <tr>\n",
                            "      <th>0</th>\n",
                            "      <td>40211</td>\n",
                            "      <td>40211</td>\n",
                            "      <td>INCIDENTE</td>\n",
                            "      <td>RIO DE JANEIRO</td>\n",
                            "      <td>RJ</td>\n",
                            "      <td>****</td>\n",
                            "      <td>2010-01-03</td>\n",
                            "      <td>12:00:00</td>\n",
                            "      <td>0</td>\n",
                            "    </tr>\n",
                            "    <tr>\n",
                            "      <th>1</th>\n",
                            "      <td>40349</td>\n",
                            "      <td>40349</td>\n",
                            "      <td>INCIDENTE</td>\n",
                            "      <td>BELÉM</td>\n",
                            "      <td>PA</td>\n",
                            "      <td>SBBE</td>\n",
                            "      <td>2010-01-03</td>\n",
                            "      <td>11:05:00</td>\n",
                            "      <td>0</td>\n",
                            "    </tr>\n",
                            "    <tr>\n",
                            "      <th>2</th>\n",
                            "      <td>40351</td>\n",
                            "      <td>40351</td>\n",
                            "      <td>INCIDENTE</td>\n",
                            "      <td>RIO DE JANEIRO</td>\n",
                            "      <td>RJ</td>\n",
                            "      <td>SBRJ</td>\n",
                            "      <td>2010-01-03</td>\n",
                            "      <td>03:00:00</td>\n",
                            "      <td>0</td>\n",
                            "    </tr>\n",
                            "    <tr>\n",
                            "      <th>3</th>\n",
                            "      <td>39527</td>\n",
                            "      <td>39527</td>\n",
                            "      <td>ACIDENTE</td>\n",
                            "      <td>LUCAS DO RIO VERDE</td>\n",
                            "      <td>MT</td>\n",
                            "      <td>****</td>\n",
                            "      <td>2010-01-04</td>\n",
                            "      <td>17:30:00</td>\n",
                            "      <td>0</td>\n",
                            "    </tr>\n",
                            "    <tr>\n",
                            "      <th>4</th>\n",
                            "      <td>40324</td>\n",
                            "      <td>40324</td>\n",
                            "      <td>INCIDENTE</td>\n",
                            "      <td>PELOTAS</td>\n",
                            "      <td>RS</td>\n",
                            "      <td>SBPK</td>\n",
                            "      <td>2010-01-05</td>\n",
                            "      <td>19:25:00</td>\n",
                            "      <td>0</td>\n",
                            "    </tr>\n",
                            "  </tbody>\n",
                            "</table>\n",
                            "</div>"
                        ]
                    },
                    "metadata": {},
                    "execution_count": 37
                }
            ],
            "metadata": {}
        },
        {
            "cell_type": "markdown",
            "source": [
                "## Validação"
            ],
            "metadata": {}
        },
        {
            "cell_type": "code",
            "execution_count": 38,
            "source": [
                "schema = pa.DataFrameSchema(\n",
                "    columns = {\n",
                "        'codigo': pa.Column(pa.Int, required=False),\n",
                "        'codigo_ocorrencia':pa.Column(pa.Int),\n",
                "        'codigo_ocorrencia2': pa.Column(pa.Int),\n",
                "        'ocorrencia_classificacao': pa.Column(pa.String),\n",
                "        'ocorrencia_cidade': pa.Column(pa.String),\n",
                "        'ocorrencia_uf': pa.Column(pa.String, pa.Check.str_length(2,2)),\n",
                "        'ocorrencia_aerodromo': pa.Column(pa.String),\n",
                "        'ocorrencia_dia': pa.Column(pa.DateTime),\n",
                "        'ocorrencia_hora': pa.Column(pa.String, pa.Check.str_matches(r'^([0-1]?[0-9]|[2][0-3]):([0-5][0-9])(:[0-5][0-9])?$'), nullable=True),\n",
                "        'total_recomendacoes': pa.Column(pa.Int)\n",
                "    }\n",
                ")"
            ],
            "outputs": [],
            "metadata": {}
        },
        {
            "cell_type": "code",
            "execution_count": 39,
            "source": [
                "schema.validate(df)"
            ],
            "outputs": [
                {
                    "output_type": "error",
                    "ename": "SchemaError",
                    "evalue": "<Schema Column(name=ocorrencia_uf, type=str)> failed element-wise validator 0:\n<Check str_length: str_length(2, 2)>\nfailure cases:\n   index failure_case\n0   2227          ***",
                    "traceback": [
                        "\u001b[0;31m---------------------------------------------------------------------------\u001b[0m",
                        "\u001b[0;31mSchemaError\u001b[0m                               Traceback (most recent call last)",
                        "\u001b[0;32m/tmp/ipykernel_3033/994206330.py\u001b[0m in \u001b[0;36m<module>\u001b[0;34m\u001b[0m\n\u001b[0;32m----> 1\u001b[0;31m \u001b[0mschema\u001b[0m\u001b[0;34m.\u001b[0m\u001b[0mvalidate\u001b[0m\u001b[0;34m(\u001b[0m\u001b[0mdf\u001b[0m\u001b[0;34m)\u001b[0m\u001b[0;34m\u001b[0m\u001b[0;34m\u001b[0m\u001b[0m\n\u001b[0m",
                        "\u001b[0;32m~/workspace/etl_python/.venv/lib/python3.8/site-packages/pandera/schemas.py\u001b[0m in \u001b[0;36mvalidate\u001b[0;34m(self, check_obj, head, tail, sample, random_state, lazy, inplace)\u001b[0m\n\u001b[1;32m    591\u001b[0m                 \u001b[0mcheck_results\u001b[0m\u001b[0;34m.\u001b[0m\u001b[0mappend\u001b[0m\u001b[0;34m(\u001b[0m\u001b[0misinstance\u001b[0m\u001b[0;34m(\u001b[0m\u001b[0mresult\u001b[0m\u001b[0;34m,\u001b[0m \u001b[0mpd\u001b[0m\u001b[0;34m.\u001b[0m\u001b[0mDataFrame\u001b[0m\u001b[0;34m)\u001b[0m\u001b[0;34m)\u001b[0m\u001b[0;34m\u001b[0m\u001b[0;34m\u001b[0m\u001b[0m\n\u001b[1;32m    592\u001b[0m             \u001b[0;32mexcept\u001b[0m \u001b[0merrors\u001b[0m\u001b[0;34m.\u001b[0m\u001b[0mSchemaError\u001b[0m \u001b[0;32mas\u001b[0m \u001b[0merr\u001b[0m\u001b[0;34m:\u001b[0m\u001b[0;34m\u001b[0m\u001b[0;34m\u001b[0m\u001b[0m\n\u001b[0;32m--> 593\u001b[0;31m                 \u001b[0merror_handler\u001b[0m\u001b[0;34m.\u001b[0m\u001b[0mcollect_error\u001b[0m\u001b[0;34m(\u001b[0m\u001b[0;34m\"schema_component_check\"\u001b[0m\u001b[0;34m,\u001b[0m \u001b[0merr\u001b[0m\u001b[0;34m)\u001b[0m\u001b[0;34m\u001b[0m\u001b[0;34m\u001b[0m\u001b[0m\n\u001b[0m\u001b[1;32m    594\u001b[0m             \u001b[0;32mexcept\u001b[0m \u001b[0merrors\u001b[0m\u001b[0;34m.\u001b[0m\u001b[0mSchemaErrors\u001b[0m \u001b[0;32mas\u001b[0m \u001b[0merr\u001b[0m\u001b[0;34m:\u001b[0m\u001b[0;34m\u001b[0m\u001b[0;34m\u001b[0m\u001b[0m\n\u001b[1;32m    595\u001b[0m                 \u001b[0;32mfor\u001b[0m \u001b[0mschema_error_dict\u001b[0m \u001b[0;32min\u001b[0m \u001b[0merr\u001b[0m\u001b[0;34m.\u001b[0m\u001b[0mschema_errors\u001b[0m\u001b[0;34m:\u001b[0m\u001b[0;34m\u001b[0m\u001b[0;34m\u001b[0m\u001b[0m\n",
                        "\u001b[0;32m~/workspace/etl_python/.venv/lib/python3.8/site-packages/pandera/error_handlers.py\u001b[0m in \u001b[0;36mcollect_error\u001b[0;34m(self, reason_code, schema_error, original_exc)\u001b[0m\n\u001b[1;32m     30\u001b[0m         \"\"\"\n\u001b[1;32m     31\u001b[0m         \u001b[0;32mif\u001b[0m \u001b[0;32mnot\u001b[0m \u001b[0mself\u001b[0m\u001b[0;34m.\u001b[0m\u001b[0m_lazy\u001b[0m\u001b[0;34m:\u001b[0m\u001b[0;34m\u001b[0m\u001b[0;34m\u001b[0m\u001b[0m\n\u001b[0;32m---> 32\u001b[0;31m             \u001b[0;32mraise\u001b[0m \u001b[0mschema_error\u001b[0m \u001b[0;32mfrom\u001b[0m \u001b[0moriginal_exc\u001b[0m\u001b[0;34m\u001b[0m\u001b[0;34m\u001b[0m\u001b[0m\n\u001b[0m\u001b[1;32m     33\u001b[0m \u001b[0;34m\u001b[0m\u001b[0m\n\u001b[1;32m     34\u001b[0m         \u001b[0;31m# delete data of validated object from SchemaError object to prevent\u001b[0m\u001b[0;34m\u001b[0m\u001b[0;34m\u001b[0m\u001b[0;34m\u001b[0m\u001b[0m\n",
                        "\u001b[0;32m~/workspace/etl_python/.venv/lib/python3.8/site-packages/pandera/schemas.py\u001b[0m in \u001b[0;36mvalidate\u001b[0;34m(self, check_obj, head, tail, sample, random_state, lazy, inplace)\u001b[0m\n\u001b[1;32m    583\u001b[0m         \u001b[0;32mfor\u001b[0m \u001b[0mschema_component\u001b[0m \u001b[0;32min\u001b[0m \u001b[0mschema_components\u001b[0m\u001b[0;34m:\u001b[0m\u001b[0;34m\u001b[0m\u001b[0;34m\u001b[0m\u001b[0m\n\u001b[1;32m    584\u001b[0m             \u001b[0;32mtry\u001b[0m\u001b[0;34m:\u001b[0m\u001b[0;34m\u001b[0m\u001b[0;34m\u001b[0m\u001b[0m\n\u001b[0;32m--> 585\u001b[0;31m                 result = schema_component(\n\u001b[0m\u001b[1;32m    586\u001b[0m                     \u001b[0mdf_to_validate\u001b[0m\u001b[0;34m,\u001b[0m\u001b[0;34m\u001b[0m\u001b[0;34m\u001b[0m\u001b[0m\n\u001b[1;32m    587\u001b[0m                     \u001b[0mlazy\u001b[0m\u001b[0;34m=\u001b[0m\u001b[0mlazy\u001b[0m\u001b[0;34m,\u001b[0m\u001b[0;34m\u001b[0m\u001b[0;34m\u001b[0m\u001b[0m\n",
                        "\u001b[0;32m~/workspace/etl_python/.venv/lib/python3.8/site-packages/pandera/schemas.py\u001b[0m in \u001b[0;36m__call__\u001b[0;34m(self, check_obj, head, tail, sample, random_state, lazy, inplace)\u001b[0m\n\u001b[1;32m   1882\u001b[0m     ) -> Union[pd.DataFrame, pd.Series]:\n\u001b[1;32m   1883\u001b[0m         \u001b[0;34m\"\"\"Alias for ``validate`` method.\"\"\"\u001b[0m\u001b[0;34m\u001b[0m\u001b[0;34m\u001b[0m\u001b[0m\n\u001b[0;32m-> 1884\u001b[0;31m         return self.validate(\n\u001b[0m\u001b[1;32m   1885\u001b[0m             \u001b[0mcheck_obj\u001b[0m\u001b[0;34m,\u001b[0m \u001b[0mhead\u001b[0m\u001b[0;34m,\u001b[0m \u001b[0mtail\u001b[0m\u001b[0;34m,\u001b[0m \u001b[0msample\u001b[0m\u001b[0;34m,\u001b[0m \u001b[0mrandom_state\u001b[0m\u001b[0;34m,\u001b[0m \u001b[0mlazy\u001b[0m\u001b[0;34m,\u001b[0m \u001b[0minplace\u001b[0m\u001b[0;34m\u001b[0m\u001b[0;34m\u001b[0m\u001b[0m\n\u001b[1;32m   1886\u001b[0m         )\n",
                        "\u001b[0;32m~/workspace/etl_python/.venv/lib/python3.8/site-packages/pandera/schema_components.py\u001b[0m in \u001b[0;36mvalidate\u001b[0;34m(self, check_obj, head, tail, sample, random_state, lazy, inplace)\u001b[0m\n\u001b[1;32m    199\u001b[0m                     )\n\u001b[1;32m    200\u001b[0m             \u001b[0;32melse\u001b[0m\u001b[0;34m:\u001b[0m\u001b[0;34m\u001b[0m\u001b[0;34m\u001b[0m\u001b[0m\n\u001b[0;32m--> 201\u001b[0;31m                 \u001b[0mvalidate_column\u001b[0m\u001b[0;34m(\u001b[0m\u001b[0mcheck_obj\u001b[0m\u001b[0;34m,\u001b[0m \u001b[0mcolumn_name\u001b[0m\u001b[0;34m)\u001b[0m\u001b[0;34m\u001b[0m\u001b[0;34m\u001b[0m\u001b[0m\n\u001b[0m\u001b[1;32m    202\u001b[0m \u001b[0;34m\u001b[0m\u001b[0m\n\u001b[1;32m    203\u001b[0m         \u001b[0;32mreturn\u001b[0m \u001b[0mcheck_obj\u001b[0m\u001b[0;34m\u001b[0m\u001b[0;34m\u001b[0m\u001b[0m\n",
                        "\u001b[0;32m~/workspace/etl_python/.venv/lib/python3.8/site-packages/pandera/schema_components.py\u001b[0m in \u001b[0;36mvalidate_column\u001b[0;34m(check_obj, column_name)\u001b[0m\n\u001b[1;32m    172\u001b[0m \u001b[0;34m\u001b[0m\u001b[0m\n\u001b[1;32m    173\u001b[0m         \u001b[0;32mdef\u001b[0m \u001b[0mvalidate_column\u001b[0m\u001b[0;34m(\u001b[0m\u001b[0mcheck_obj\u001b[0m\u001b[0;34m,\u001b[0m \u001b[0mcolumn_name\u001b[0m\u001b[0;34m)\u001b[0m\u001b[0;34m:\u001b[0m\u001b[0;34m\u001b[0m\u001b[0;34m\u001b[0m\u001b[0m\n\u001b[0;32m--> 174\u001b[0;31m             super(Column, copy(self).set_name(column_name)).validate(\n\u001b[0m\u001b[1;32m    175\u001b[0m                 \u001b[0mcheck_obj\u001b[0m\u001b[0;34m,\u001b[0m\u001b[0;34m\u001b[0m\u001b[0;34m\u001b[0m\u001b[0m\n\u001b[1;32m    176\u001b[0m                 \u001b[0mhead\u001b[0m\u001b[0;34m,\u001b[0m\u001b[0;34m\u001b[0m\u001b[0;34m\u001b[0m\u001b[0m\n",
                        "\u001b[0;32m~/workspace/etl_python/.venv/lib/python3.8/site-packages/pandera/schemas.py\u001b[0m in \u001b[0;36mvalidate\u001b[0;34m(self, check_obj, head, tail, sample, random_state, lazy, inplace)\u001b[0m\n\u001b[1;32m   1844\u001b[0m                 )\n\u001b[1;32m   1845\u001b[0m             \u001b[0;32mexcept\u001b[0m \u001b[0merrors\u001b[0m\u001b[0;34m.\u001b[0m\u001b[0mSchemaError\u001b[0m \u001b[0;32mas\u001b[0m \u001b[0merr\u001b[0m\u001b[0;34m:\u001b[0m\u001b[0;34m\u001b[0m\u001b[0;34m\u001b[0m\u001b[0m\n\u001b[0;32m-> 1846\u001b[0;31m                 \u001b[0merror_handler\u001b[0m\u001b[0;34m.\u001b[0m\u001b[0mcollect_error\u001b[0m\u001b[0;34m(\u001b[0m\u001b[0;34m\"dataframe_check\"\u001b[0m\u001b[0;34m,\u001b[0m \u001b[0merr\u001b[0m\u001b[0;34m)\u001b[0m\u001b[0;34m\u001b[0m\u001b[0;34m\u001b[0m\u001b[0m\n\u001b[0m\u001b[1;32m   1847\u001b[0m             \u001b[0;32mexcept\u001b[0m \u001b[0mException\u001b[0m \u001b[0;32mas\u001b[0m \u001b[0merr\u001b[0m\u001b[0;34m:\u001b[0m  \u001b[0;31m# pylint: disable=broad-except\u001b[0m\u001b[0;34m\u001b[0m\u001b[0;34m\u001b[0m\u001b[0m\n\u001b[1;32m   1848\u001b[0m                 \u001b[0;31m# catch other exceptions that may occur when executing the\u001b[0m\u001b[0;34m\u001b[0m\u001b[0;34m\u001b[0m\u001b[0;34m\u001b[0m\u001b[0m\n",
                        "\u001b[0;32m~/workspace/etl_python/.venv/lib/python3.8/site-packages/pandera/error_handlers.py\u001b[0m in \u001b[0;36mcollect_error\u001b[0;34m(self, reason_code, schema_error, original_exc)\u001b[0m\n\u001b[1;32m     30\u001b[0m         \"\"\"\n\u001b[1;32m     31\u001b[0m         \u001b[0;32mif\u001b[0m \u001b[0;32mnot\u001b[0m \u001b[0mself\u001b[0m\u001b[0;34m.\u001b[0m\u001b[0m_lazy\u001b[0m\u001b[0;34m:\u001b[0m\u001b[0;34m\u001b[0m\u001b[0;34m\u001b[0m\u001b[0m\n\u001b[0;32m---> 32\u001b[0;31m             \u001b[0;32mraise\u001b[0m \u001b[0mschema_error\u001b[0m \u001b[0;32mfrom\u001b[0m \u001b[0moriginal_exc\u001b[0m\u001b[0;34m\u001b[0m\u001b[0;34m\u001b[0m\u001b[0m\n\u001b[0m\u001b[1;32m     33\u001b[0m \u001b[0;34m\u001b[0m\u001b[0m\n\u001b[1;32m     34\u001b[0m         \u001b[0;31m# delete data of validated object from SchemaError object to prevent\u001b[0m\u001b[0;34m\u001b[0m\u001b[0;34m\u001b[0m\u001b[0;34m\u001b[0m\u001b[0m\n",
                        "\u001b[0;32m~/workspace/etl_python/.venv/lib/python3.8/site-packages/pandera/schemas.py\u001b[0m in \u001b[0;36mvalidate\u001b[0;34m(self, check_obj, head, tail, sample, random_state, lazy, inplace)\u001b[0m\n\u001b[1;32m   1839\u001b[0m             \u001b[0;32mtry\u001b[0m\u001b[0;34m:\u001b[0m\u001b[0;34m\u001b[0m\u001b[0;34m\u001b[0m\u001b[0m\n\u001b[1;32m   1840\u001b[0m                 check_results.append(\n\u001b[0;32m-> 1841\u001b[0;31m                     _handle_check_results(\n\u001b[0m\u001b[1;32m   1842\u001b[0m                         \u001b[0mself\u001b[0m\u001b[0;34m,\u001b[0m \u001b[0mcheck_index\u001b[0m\u001b[0;34m,\u001b[0m \u001b[0mcheck\u001b[0m\u001b[0;34m,\u001b[0m \u001b[0mcheck_obj\u001b[0m\u001b[0;34m,\u001b[0m \u001b[0;34m*\u001b[0m\u001b[0mcheck_args\u001b[0m\u001b[0;34m\u001b[0m\u001b[0;34m\u001b[0m\u001b[0m\n\u001b[1;32m   1843\u001b[0m                     )\n",
                        "\u001b[0;32m~/workspace/etl_python/.venv/lib/python3.8/site-packages/pandera/schemas.py\u001b[0m in \u001b[0;36m_handle_check_results\u001b[0;34m(schema, check_index, check, check_obj, *check_args)\u001b[0m\n\u001b[1;32m   2154\u001b[0m             \u001b[0mwarnings\u001b[0m\u001b[0;34m.\u001b[0m\u001b[0mwarn\u001b[0m\u001b[0;34m(\u001b[0m\u001b[0merror_msg\u001b[0m\u001b[0;34m,\u001b[0m \u001b[0mUserWarning\u001b[0m\u001b[0;34m)\u001b[0m\u001b[0;34m\u001b[0m\u001b[0;34m\u001b[0m\u001b[0m\n\u001b[1;32m   2155\u001b[0m             \u001b[0;32mreturn\u001b[0m \u001b[0;32mTrue\u001b[0m\u001b[0;34m\u001b[0m\u001b[0;34m\u001b[0m\u001b[0m\n\u001b[0;32m-> 2156\u001b[0;31m         raise errors.SchemaError(\n\u001b[0m\u001b[1;32m   2157\u001b[0m             \u001b[0mschema\u001b[0m\u001b[0;34m,\u001b[0m\u001b[0;34m\u001b[0m\u001b[0;34m\u001b[0m\u001b[0m\n\u001b[1;32m   2158\u001b[0m             \u001b[0mcheck_obj\u001b[0m\u001b[0;34m,\u001b[0m\u001b[0;34m\u001b[0m\u001b[0;34m\u001b[0m\u001b[0m\n",
                        "\u001b[0;31mSchemaError\u001b[0m: <Schema Column(name=ocorrencia_uf, type=str)> failed element-wise validator 0:\n<Check str_length: str_length(2, 2)>\nfailure cases:\n   index failure_case\n0   2227          ***"
                    ]
                }
            ],
            "metadata": {}
        },
        {
            "cell_type": "markdown",
            "source": [
                "df.ocorrencia_dia.dt.month\n",
                "df.dtypes"
            ],
            "metadata": {}
        },
        {
            "cell_type": "markdown",
            "source": [
                "## Limpeza"
            ],
            "metadata": {}
        },
        {
            "cell_type": "code",
            "execution_count": null,
            "source": [
                "df.loc[1, 'ocorrencia_cidade']"
            ],
            "outputs": [
                {
                    "output_type": "execute_result",
                    "data": {
                        "text/plain": [
                            "'BELÉM'"
                        ]
                    },
                    "metadata": {},
                    "execution_count": 21
                }
            ],
            "metadata": {}
        },
        {
            "cell_type": "markdown",
            "source": [
                "passar linhas diferentes"
            ],
            "metadata": {}
        },
        {
            "cell_type": "code",
            "execution_count": null,
            "source": [
                "df.loc[[10,40]]"
            ],
            "outputs": [
                {
                    "output_type": "execute_result",
                    "data": {
                        "text/plain": [
                            "    codigo_ocorrencia  codigo_ocorrencia2 ocorrencia_classificacao  \\\n",
                            "10              39789               39789                INCIDENTE   \n",
                            "40              39158               39158                INCIDENTE   \n",
                            "\n",
                            "   ocorrencia_cidade ocorrencia_uf ocorrencia_aerodromo ocorrencia_dia  \\\n",
                            "10  SÃO PEDRO DO SUL            RS                 ****     2010-01-10   \n",
                            "40             BELÉM            PA                 ****     2010-01-28   \n",
                            "\n",
                            "   ocorrencia_hora  total_recomendacoes  \n",
                            "10        21:30:00                    0  \n",
                            "40        16:00:00                    0  "
                        ],
                        "text/html": [
                            "<div>\n",
                            "<style scoped>\n",
                            "    .dataframe tbody tr th:only-of-type {\n",
                            "        vertical-align: middle;\n",
                            "    }\n",
                            "\n",
                            "    .dataframe tbody tr th {\n",
                            "        vertical-align: top;\n",
                            "    }\n",
                            "\n",
                            "    .dataframe thead th {\n",
                            "        text-align: right;\n",
                            "    }\n",
                            "</style>\n",
                            "<table border=\"1\" class=\"dataframe\">\n",
                            "  <thead>\n",
                            "    <tr style=\"text-align: right;\">\n",
                            "      <th></th>\n",
                            "      <th>codigo_ocorrencia</th>\n",
                            "      <th>codigo_ocorrencia2</th>\n",
                            "      <th>ocorrencia_classificacao</th>\n",
                            "      <th>ocorrencia_cidade</th>\n",
                            "      <th>ocorrencia_uf</th>\n",
                            "      <th>ocorrencia_aerodromo</th>\n",
                            "      <th>ocorrencia_dia</th>\n",
                            "      <th>ocorrencia_hora</th>\n",
                            "      <th>total_recomendacoes</th>\n",
                            "    </tr>\n",
                            "  </thead>\n",
                            "  <tbody>\n",
                            "    <tr>\n",
                            "      <th>10</th>\n",
                            "      <td>39789</td>\n",
                            "      <td>39789</td>\n",
                            "      <td>INCIDENTE</td>\n",
                            "      <td>SÃO PEDRO DO SUL</td>\n",
                            "      <td>RS</td>\n",
                            "      <td>****</td>\n",
                            "      <td>2010-01-10</td>\n",
                            "      <td>21:30:00</td>\n",
                            "      <td>0</td>\n",
                            "    </tr>\n",
                            "    <tr>\n",
                            "      <th>40</th>\n",
                            "      <td>39158</td>\n",
                            "      <td>39158</td>\n",
                            "      <td>INCIDENTE</td>\n",
                            "      <td>BELÉM</td>\n",
                            "      <td>PA</td>\n",
                            "      <td>****</td>\n",
                            "      <td>2010-01-28</td>\n",
                            "      <td>16:00:00</td>\n",
                            "      <td>0</td>\n",
                            "    </tr>\n",
                            "  </tbody>\n",
                            "</table>\n",
                            "</div>"
                        ]
                    },
                    "metadata": {},
                    "execution_count": 22
                }
            ],
            "metadata": {}
        },
        {
            "cell_type": "markdown",
            "source": [
                "somente coluna"
            ],
            "metadata": {}
        },
        {
            "cell_type": "code",
            "execution_count": null,
            "source": [
                "df.loc[:, 'ocorrencia_cidade']"
            ],
            "outputs": [
                {
                    "output_type": "execute_result",
                    "data": {
                        "text/plain": [
                            "0           RIO DE JANEIRO\n",
                            "1                    BELÉM\n",
                            "2           RIO DE JANEIRO\n",
                            "3       LUCAS DO RIO VERDE\n",
                            "4                  PELOTAS\n",
                            "               ...        \n",
                            "5747              CAMPINAS\n",
                            "5748     LAGOA DA CONFUSÃO\n",
                            "5749        RIO DE JANEIRO\n",
                            "5750             VICENTINA\n",
                            "5751        RIO DE JANEIRO\n",
                            "Name: ocorrencia_cidade, Length: 5752, dtype: object"
                        ]
                    },
                    "metadata": {},
                    "execution_count": 23
                }
            ],
            "metadata": {}
        },
        {
            "cell_type": "markdown",
            "source": [
                "Chechar se a coluna é unica para setar como indice"
            ],
            "metadata": {}
        },
        {
            "cell_type": "code",
            "execution_count": null,
            "source": [
                "df.codigo_ocorrencia.is_unique"
            ],
            "outputs": [
                {
                    "output_type": "execute_result",
                    "data": {
                        "text/plain": [
                            "True"
                        ]
                    },
                    "metadata": {},
                    "execution_count": 24
                }
            ],
            "metadata": {}
        },
        {
            "cell_type": "code",
            "execution_count": null,
            "source": [
                "df.set_index('codigo_ocorrencia', inplace=True)"
            ],
            "outputs": [],
            "metadata": {}
        },
        {
            "cell_type": "code",
            "execution_count": null,
            "source": [
                "df.head()"
            ],
            "outputs": [
                {
                    "output_type": "execute_result",
                    "data": {
                        "text/plain": [
                            "                   codigo_ocorrencia2 ocorrencia_classificacao  \\\n",
                            "codigo_ocorrencia                                                \n",
                            "40211                           40211                INCIDENTE   \n",
                            "40349                           40349                INCIDENTE   \n",
                            "40351                           40351                INCIDENTE   \n",
                            "39527                           39527                 ACIDENTE   \n",
                            "40324                           40324                INCIDENTE   \n",
                            "\n",
                            "                    ocorrencia_cidade ocorrencia_uf ocorrencia_aerodromo  \\\n",
                            "codigo_ocorrencia                                                          \n",
                            "40211                  RIO DE JANEIRO            RJ                 ****   \n",
                            "40349                           BELÉM            PA                 SBBE   \n",
                            "40351                  RIO DE JANEIRO            RJ                 SBRJ   \n",
                            "39527              LUCAS DO RIO VERDE            MT                 ****   \n",
                            "40324                         PELOTAS            RS                 SBPK   \n",
                            "\n",
                            "                  ocorrencia_dia ocorrencia_hora  total_recomendacoes  \n",
                            "codigo_ocorrencia                                                      \n",
                            "40211                 2010-01-03        12:00:00                    0  \n",
                            "40349                 2010-01-03        11:05:00                    0  \n",
                            "40351                 2010-01-03        03:00:00                    0  \n",
                            "39527                 2010-01-04        17:30:00                    0  \n",
                            "40324                 2010-01-05        19:25:00                    0  "
                        ],
                        "text/html": [
                            "<div>\n",
                            "<style scoped>\n",
                            "    .dataframe tbody tr th:only-of-type {\n",
                            "        vertical-align: middle;\n",
                            "    }\n",
                            "\n",
                            "    .dataframe tbody tr th {\n",
                            "        vertical-align: top;\n",
                            "    }\n",
                            "\n",
                            "    .dataframe thead th {\n",
                            "        text-align: right;\n",
                            "    }\n",
                            "</style>\n",
                            "<table border=\"1\" class=\"dataframe\">\n",
                            "  <thead>\n",
                            "    <tr style=\"text-align: right;\">\n",
                            "      <th></th>\n",
                            "      <th>codigo_ocorrencia2</th>\n",
                            "      <th>ocorrencia_classificacao</th>\n",
                            "      <th>ocorrencia_cidade</th>\n",
                            "      <th>ocorrencia_uf</th>\n",
                            "      <th>ocorrencia_aerodromo</th>\n",
                            "      <th>ocorrencia_dia</th>\n",
                            "      <th>ocorrencia_hora</th>\n",
                            "      <th>total_recomendacoes</th>\n",
                            "    </tr>\n",
                            "    <tr>\n",
                            "      <th>codigo_ocorrencia</th>\n",
                            "      <th></th>\n",
                            "      <th></th>\n",
                            "      <th></th>\n",
                            "      <th></th>\n",
                            "      <th></th>\n",
                            "      <th></th>\n",
                            "      <th></th>\n",
                            "      <th></th>\n",
                            "    </tr>\n",
                            "  </thead>\n",
                            "  <tbody>\n",
                            "    <tr>\n",
                            "      <th>40211</th>\n",
                            "      <td>40211</td>\n",
                            "      <td>INCIDENTE</td>\n",
                            "      <td>RIO DE JANEIRO</td>\n",
                            "      <td>RJ</td>\n",
                            "      <td>****</td>\n",
                            "      <td>2010-01-03</td>\n",
                            "      <td>12:00:00</td>\n",
                            "      <td>0</td>\n",
                            "    </tr>\n",
                            "    <tr>\n",
                            "      <th>40349</th>\n",
                            "      <td>40349</td>\n",
                            "      <td>INCIDENTE</td>\n",
                            "      <td>BELÉM</td>\n",
                            "      <td>PA</td>\n",
                            "      <td>SBBE</td>\n",
                            "      <td>2010-01-03</td>\n",
                            "      <td>11:05:00</td>\n",
                            "      <td>0</td>\n",
                            "    </tr>\n",
                            "    <tr>\n",
                            "      <th>40351</th>\n",
                            "      <td>40351</td>\n",
                            "      <td>INCIDENTE</td>\n",
                            "      <td>RIO DE JANEIRO</td>\n",
                            "      <td>RJ</td>\n",
                            "      <td>SBRJ</td>\n",
                            "      <td>2010-01-03</td>\n",
                            "      <td>03:00:00</td>\n",
                            "      <td>0</td>\n",
                            "    </tr>\n",
                            "    <tr>\n",
                            "      <th>39527</th>\n",
                            "      <td>39527</td>\n",
                            "      <td>ACIDENTE</td>\n",
                            "      <td>LUCAS DO RIO VERDE</td>\n",
                            "      <td>MT</td>\n",
                            "      <td>****</td>\n",
                            "      <td>2010-01-04</td>\n",
                            "      <td>17:30:00</td>\n",
                            "      <td>0</td>\n",
                            "    </tr>\n",
                            "    <tr>\n",
                            "      <th>40324</th>\n",
                            "      <td>40324</td>\n",
                            "      <td>INCIDENTE</td>\n",
                            "      <td>PELOTAS</td>\n",
                            "      <td>RS</td>\n",
                            "      <td>SBPK</td>\n",
                            "      <td>2010-01-05</td>\n",
                            "      <td>19:25:00</td>\n",
                            "      <td>0</td>\n",
                            "    </tr>\n",
                            "  </tbody>\n",
                            "</table>\n",
                            "</div>"
                        ]
                    },
                    "metadata": {},
                    "execution_count": 27
                }
            ],
            "metadata": {}
        },
        {
            "cell_type": "markdown",
            "source": [
                "para resetar"
            ],
            "metadata": {}
        },
        {
            "cell_type": "code",
            "execution_count": null,
            "source": [
                "df.reset_index(drop=True, inplace=True)"
            ],
            "outputs": [],
            "metadata": {}
        },
        {
            "cell_type": "markdown",
            "source": [
                "mudar valor de todas as linhas de uma coluna\n",
                "\n",
                "df.loc[:,'ocorrencia_recomendacoes'] = 10"
            ],
            "metadata": {}
        },
        {
            "cell_type": "code",
            "execution_count": null,
            "source": [
                "df.head()"
            ],
            "outputs": [
                {
                    "output_type": "execute_result",
                    "data": {
                        "text/plain": [
                            "   codigo_ocorrencia2 ocorrencia_classificacao   ocorrencia_cidade  \\\n",
                            "0               40211                INCIDENTE      RIO DE JANEIRO   \n",
                            "1               40349                INCIDENTE               BELÉM   \n",
                            "2               40351                INCIDENTE      RIO DE JANEIRO   \n",
                            "3               39527                 ACIDENTE  LUCAS DO RIO VERDE   \n",
                            "4               40324                INCIDENTE             PELOTAS   \n",
                            "\n",
                            "  ocorrencia_uf ocorrencia_aerodromo ocorrencia_dia ocorrencia_hora  \\\n",
                            "0            RJ                 ****     2010-01-03        12:00:00   \n",
                            "1            PA                 SBBE     2010-01-03        11:05:00   \n",
                            "2            RJ                 SBRJ     2010-01-03        03:00:00   \n",
                            "3            MT                 ****     2010-01-04        17:30:00   \n",
                            "4            RS                 SBPK     2010-01-05        19:25:00   \n",
                            "\n",
                            "   total_recomendacoes  \n",
                            "0                    0  \n",
                            "1                    0  \n",
                            "2                    0  \n",
                            "3                    0  \n",
                            "4                    0  "
                        ],
                        "text/html": [
                            "<div>\n",
                            "<style scoped>\n",
                            "    .dataframe tbody tr th:only-of-type {\n",
                            "        vertical-align: middle;\n",
                            "    }\n",
                            "\n",
                            "    .dataframe tbody tr th {\n",
                            "        vertical-align: top;\n",
                            "    }\n",
                            "\n",
                            "    .dataframe thead th {\n",
                            "        text-align: right;\n",
                            "    }\n",
                            "</style>\n",
                            "<table border=\"1\" class=\"dataframe\">\n",
                            "  <thead>\n",
                            "    <tr style=\"text-align: right;\">\n",
                            "      <th></th>\n",
                            "      <th>codigo_ocorrencia2</th>\n",
                            "      <th>ocorrencia_classificacao</th>\n",
                            "      <th>ocorrencia_cidade</th>\n",
                            "      <th>ocorrencia_uf</th>\n",
                            "      <th>ocorrencia_aerodromo</th>\n",
                            "      <th>ocorrencia_dia</th>\n",
                            "      <th>ocorrencia_hora</th>\n",
                            "      <th>total_recomendacoes</th>\n",
                            "    </tr>\n",
                            "  </thead>\n",
                            "  <tbody>\n",
                            "    <tr>\n",
                            "      <th>0</th>\n",
                            "      <td>40211</td>\n",
                            "      <td>INCIDENTE</td>\n",
                            "      <td>RIO DE JANEIRO</td>\n",
                            "      <td>RJ</td>\n",
                            "      <td>****</td>\n",
                            "      <td>2010-01-03</td>\n",
                            "      <td>12:00:00</td>\n",
                            "      <td>0</td>\n",
                            "    </tr>\n",
                            "    <tr>\n",
                            "      <th>1</th>\n",
                            "      <td>40349</td>\n",
                            "      <td>INCIDENTE</td>\n",
                            "      <td>BELÉM</td>\n",
                            "      <td>PA</td>\n",
                            "      <td>SBBE</td>\n",
                            "      <td>2010-01-03</td>\n",
                            "      <td>11:05:00</td>\n",
                            "      <td>0</td>\n",
                            "    </tr>\n",
                            "    <tr>\n",
                            "      <th>2</th>\n",
                            "      <td>40351</td>\n",
                            "      <td>INCIDENTE</td>\n",
                            "      <td>RIO DE JANEIRO</td>\n",
                            "      <td>RJ</td>\n",
                            "      <td>SBRJ</td>\n",
                            "      <td>2010-01-03</td>\n",
                            "      <td>03:00:00</td>\n",
                            "      <td>0</td>\n",
                            "    </tr>\n",
                            "    <tr>\n",
                            "      <th>3</th>\n",
                            "      <td>39527</td>\n",
                            "      <td>ACIDENTE</td>\n",
                            "      <td>LUCAS DO RIO VERDE</td>\n",
                            "      <td>MT</td>\n",
                            "      <td>****</td>\n",
                            "      <td>2010-01-04</td>\n",
                            "      <td>17:30:00</td>\n",
                            "      <td>0</td>\n",
                            "    </tr>\n",
                            "    <tr>\n",
                            "      <th>4</th>\n",
                            "      <td>40324</td>\n",
                            "      <td>INCIDENTE</td>\n",
                            "      <td>PELOTAS</td>\n",
                            "      <td>RS</td>\n",
                            "      <td>SBPK</td>\n",
                            "      <td>2010-01-05</td>\n",
                            "      <td>19:25:00</td>\n",
                            "      <td>0</td>\n",
                            "    </tr>\n",
                            "  </tbody>\n",
                            "</table>\n",
                            "</div>"
                        ]
                    },
                    "metadata": {},
                    "execution_count": 30
                }
            ],
            "metadata": {}
        },
        {
            "cell_type": "code",
            "execution_count": 41,
            "source": [
                "df.loc[df.ocorrencia_aerodromo == '****', ['ocorrencia_aerodromo']] = pd.NA"
            ],
            "outputs": [],
            "metadata": {}
        },
        {
            "cell_type": "code",
            "execution_count": 42,
            "source": [
                "df.head()"
            ],
            "outputs": [
                {
                    "output_type": "execute_result",
                    "data": {
                        "text/plain": [
                            "   codigo_ocorrencia  codigo_ocorrencia2 ocorrencia_classificacao  \\\n",
                            "0              40211               40211                INCIDENTE   \n",
                            "1              40349               40349                INCIDENTE   \n",
                            "2              40351               40351                INCIDENTE   \n",
                            "3              39527               39527                 ACIDENTE   \n",
                            "4              40324               40324                INCIDENTE   \n",
                            "\n",
                            "    ocorrencia_cidade ocorrencia_uf ocorrencia_aerodromo ocorrencia_dia  \\\n",
                            "0      RIO DE JANEIRO            RJ                 <NA>     2010-01-03   \n",
                            "1               BELÉM            PA                 SBBE     2010-01-03   \n",
                            "2      RIO DE JANEIRO            RJ                 SBRJ     2010-01-03   \n",
                            "3  LUCAS DO RIO VERDE            MT                 <NA>     2010-01-04   \n",
                            "4             PELOTAS            RS                 SBPK     2010-01-05   \n",
                            "\n",
                            "  ocorrencia_hora  total_recomendacoes  \n",
                            "0        12:00:00                    0  \n",
                            "1        11:05:00                    0  \n",
                            "2        03:00:00                    0  \n",
                            "3        17:30:00                    0  \n",
                            "4        19:25:00                    0  "
                        ],
                        "text/html": [
                            "<div>\n",
                            "<style scoped>\n",
                            "    .dataframe tbody tr th:only-of-type {\n",
                            "        vertical-align: middle;\n",
                            "    }\n",
                            "\n",
                            "    .dataframe tbody tr th {\n",
                            "        vertical-align: top;\n",
                            "    }\n",
                            "\n",
                            "    .dataframe thead th {\n",
                            "        text-align: right;\n",
                            "    }\n",
                            "</style>\n",
                            "<table border=\"1\" class=\"dataframe\">\n",
                            "  <thead>\n",
                            "    <tr style=\"text-align: right;\">\n",
                            "      <th></th>\n",
                            "      <th>codigo_ocorrencia</th>\n",
                            "      <th>codigo_ocorrencia2</th>\n",
                            "      <th>ocorrencia_classificacao</th>\n",
                            "      <th>ocorrencia_cidade</th>\n",
                            "      <th>ocorrencia_uf</th>\n",
                            "      <th>ocorrencia_aerodromo</th>\n",
                            "      <th>ocorrencia_dia</th>\n",
                            "      <th>ocorrencia_hora</th>\n",
                            "      <th>total_recomendacoes</th>\n",
                            "    </tr>\n",
                            "  </thead>\n",
                            "  <tbody>\n",
                            "    <tr>\n",
                            "      <th>0</th>\n",
                            "      <td>40211</td>\n",
                            "      <td>40211</td>\n",
                            "      <td>INCIDENTE</td>\n",
                            "      <td>RIO DE JANEIRO</td>\n",
                            "      <td>RJ</td>\n",
                            "      <td>&lt;NA&gt;</td>\n",
                            "      <td>2010-01-03</td>\n",
                            "      <td>12:00:00</td>\n",
                            "      <td>0</td>\n",
                            "    </tr>\n",
                            "    <tr>\n",
                            "      <th>1</th>\n",
                            "      <td>40349</td>\n",
                            "      <td>40349</td>\n",
                            "      <td>INCIDENTE</td>\n",
                            "      <td>BELÉM</td>\n",
                            "      <td>PA</td>\n",
                            "      <td>SBBE</td>\n",
                            "      <td>2010-01-03</td>\n",
                            "      <td>11:05:00</td>\n",
                            "      <td>0</td>\n",
                            "    </tr>\n",
                            "    <tr>\n",
                            "      <th>2</th>\n",
                            "      <td>40351</td>\n",
                            "      <td>40351</td>\n",
                            "      <td>INCIDENTE</td>\n",
                            "      <td>RIO DE JANEIRO</td>\n",
                            "      <td>RJ</td>\n",
                            "      <td>SBRJ</td>\n",
                            "      <td>2010-01-03</td>\n",
                            "      <td>03:00:00</td>\n",
                            "      <td>0</td>\n",
                            "    </tr>\n",
                            "    <tr>\n",
                            "      <th>3</th>\n",
                            "      <td>39527</td>\n",
                            "      <td>39527</td>\n",
                            "      <td>ACIDENTE</td>\n",
                            "      <td>LUCAS DO RIO VERDE</td>\n",
                            "      <td>MT</td>\n",
                            "      <td>&lt;NA&gt;</td>\n",
                            "      <td>2010-01-04</td>\n",
                            "      <td>17:30:00</td>\n",
                            "      <td>0</td>\n",
                            "    </tr>\n",
                            "    <tr>\n",
                            "      <th>4</th>\n",
                            "      <td>40324</td>\n",
                            "      <td>40324</td>\n",
                            "      <td>INCIDENTE</td>\n",
                            "      <td>PELOTAS</td>\n",
                            "      <td>RS</td>\n",
                            "      <td>SBPK</td>\n",
                            "      <td>2010-01-05</td>\n",
                            "      <td>19:25:00</td>\n",
                            "      <td>0</td>\n",
                            "    </tr>\n",
                            "  </tbody>\n",
                            "</table>\n",
                            "</div>"
                        ]
                    },
                    "metadata": {},
                    "execution_count": 42
                }
            ],
            "metadata": {}
        },
        {
            "cell_type": "code",
            "execution_count": 44,
            "source": [
                "df.replace(['**', '###!','####', '****', '*****', 'NULL'], pd.NA, inplace=True)"
            ],
            "outputs": [],
            "metadata": {}
        },
        {
            "cell_type": "code",
            "execution_count": 48,
            "source": [
                "df.isna().sum()"
            ],
            "outputs": [
                {
                    "output_type": "execute_result",
                    "data": {
                        "text/plain": [
                            "codigo_ocorrencia              0\n",
                            "codigo_ocorrencia2             0\n",
                            "ocorrencia_classificacao       0\n",
                            "ocorrencia_cidade              0\n",
                            "ocorrencia_uf                  0\n",
                            "ocorrencia_aerodromo        2349\n",
                            "ocorrencia_dia                 0\n",
                            "ocorrencia_hora                1\n",
                            "total_recomendacoes            0\n",
                            "dtype: int64"
                        ]
                    },
                    "metadata": {},
                    "execution_count": 48
                }
            ],
            "metadata": {}
        },
        {
            "cell_type": "markdown",
            "source": [
                "df.fillna(value={'total_recomendacoes':10}, inplace=True)\n",
                "dropna() dropa a linha toda"
            ],
            "metadata": {}
        },
        {
            "cell_type": "markdown",
            "source": [
                "## Transformação"
            ],
            "metadata": {}
        }
    ],
    "metadata": {
        "orig_nbformat": 4,
        "language_info": {
            "name": "python",
            "version": "3.8.10",
            "mimetype": "text/x-python",
            "codemirror_mode": {
                "name": "ipython",
                "version": 3
            },
            "pygments_lexer": "ipython3",
            "nbconvert_exporter": "python",
            "file_extension": ".py"
        },
        "kernelspec": {
            "name": "python3",
            "display_name": "Python 3.8.10 64-bit ('.venv': venv)"
        },
        "interpreter": {
            "hash": "842ccaf35d5c7f0951991d2628598815049a1f9d5492e700598ac45da84e7814"
        }
    },
    "nbformat": 4,
    "nbformat_minor": 2
}